{
 "cells": [
  {
   "cell_type": "code",
   "execution_count": 1,
   "metadata": {},
   "outputs": [],
   "source": [
    "import pandas as pd"
   ]
  },
  {
   "cell_type": "code",
   "execution_count": 3,
   "metadata": {},
   "outputs": [
    {
     "name": "stdout",
     "output_type": "stream",
     "text": [
      "Upsampled dataset_100.csv created\n",
      "Upsampled dataset_150.csv created\n",
      "Upsampled dataset_200.csv created\n",
      "Upsampled dataset_250.csv created\n"
     ]
    }
   ],
   "source": [
    "for i in range(100, 300, 50):\n",
    "    df = pd.read_csv('./datasets/Reviews_cleaned.csv', index_col=0)\n",
    "    upsampled_df = df.sample(frac=i/100, random_state=42, replace=True)\n",
    "    upsampled_df.to_csv(f'./datasets/dataset_{i}.csv')\n",
    "    print(f'Upsampled dataset_{i}.csv created')"
   ]
  }
 ],
 "metadata": {
  "kernelspec": {
   "display_name": "bd_env",
   "language": "python",
   "name": "python3"
  },
  "language_info": {
   "codemirror_mode": {
    "name": "ipython",
    "version": 3
   },
   "file_extension": ".py",
   "mimetype": "text/x-python",
   "name": "python",
   "nbconvert_exporter": "python",
   "pygments_lexer": "ipython3",
   "version": "3.10.6"
  },
  "orig_nbformat": 4
 },
 "nbformat": 4,
 "nbformat_minor": 2
}
