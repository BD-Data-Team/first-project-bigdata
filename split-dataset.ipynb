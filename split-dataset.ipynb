{
 "cells": [
  {
   "cell_type": "code",
   "execution_count": 8,
   "metadata": {},
   "outputs": [],
   "source": [
    "import pandas as pd"
   ]
  },
  {
   "cell_type": "code",
   "execution_count": 9,
   "metadata": {},
   "outputs": [],
   "source": [
    "df = pd.read_csv('./datasets/Reviews_cleaned.csv', index_col=0)"
   ]
  },
  {
   "cell_type": "code",
   "execution_count": 10,
   "metadata": {},
   "outputs": [],
   "source": [
    "df_10pct = df.sample(frac=0.1, random_state=0)\n",
    "df_25pct = df.sample(frac=0.25, random_state=0)\n",
    "df_50pct = df.sample(frac=0.5, random_state=0)\n",
    "df_75pct = df.sample(frac=0.75, random_state=0)"
   ]
  },
  {
   "cell_type": "code",
   "execution_count": 11,
   "metadata": {},
   "outputs": [],
   "source": [
    "df_10pct.to_csv('./datasets/Reviews_cleaned_10pct.csv', index=True)\n",
    "df_25pct.to_csv('./datasets/Reviews_cleaned_25pct.csv', index=True)\n",
    "df_50pct.to_csv('./datasets/Reviews_cleaned_50pct.csv', index=True)\n",
    "df_75pct.to_csv('./datasets/Reviews_cleaned_75pct.csv', index=True)"
   ]
  }
 ],
 "metadata": {
  "kernelspec": {
   "display_name": "bd_env",
   "language": "python",
   "name": "python3"
  },
  "language_info": {
   "codemirror_mode": {
    "name": "ipython",
    "version": 3
   },
   "file_extension": ".py",
   "mimetype": "text/x-python",
   "name": "python",
   "nbconvert_exporter": "python",
   "pygments_lexer": "ipython3",
   "version": "3.9.16"
  },
  "orig_nbformat": 4
 },
 "nbformat": 4,
 "nbformat_minor": 2
}
