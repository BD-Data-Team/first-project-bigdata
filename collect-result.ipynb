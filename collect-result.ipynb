{
 "cells": [
  {
   "cell_type": "code",
   "execution_count": null,
   "metadata": {},
   "outputs": [],
   "source": [
    "from visualize import plot_statistics\n",
    "import subprocess\n",
    "import time\n",
    "\n",
    "NUM_TEST = 2\n",
    "nJob = \"2\"\n",
    "current_implementation = \"map-reduce\"\n",
    "\n",
    "elapsed_times = []\n",
    "\n",
    "for i in range(1, NUM_TEST+1):\n",
    "    print(f\"Test number {i}\")\n",
    "    start_time = time.time()\n",
    "    subprocess.call(['bash', '/home/francesco/Documenti/data-team/shell_scripts/run_task.sh', nJob, current_implementation])\n",
    "    elapsed_time = time.time() - start_time\n",
    "    elapsed_times.append(elapsed_time)\n",
    "\n",
    "plot_statistics(NUM_TEST, elapsed_times, nJob)"
   ]
  },
  {
   "cell_type": "code",
   "execution_count": 25,
   "metadata": {},
   "outputs": [
    {
     "name": "stdout",
     "output_type": "stream",
     "text": [
      "Error: elapsed_times must be a list of 4 elements\n"
     ]
    }
   ],
   "source": [
    "print(elapsed_times)"
   ]
  }
 ],
 "metadata": {
  "kernelspec": {
   "display_name": "Python 3",
   "language": "python",
   "name": "python3"
  },
  "language_info": {
   "codemirror_mode": {
    "name": "ipython",
    "version": 3
   },
   "file_extension": ".py",
   "mimetype": "text/x-python",
   "name": "python",
   "nbconvert_exporter": "python",
   "pygments_lexer": "ipython3",
   "version": "3.10.6"
  },
  "orig_nbformat": 4
 },
 "nbformat": 4,
 "nbformat_minor": 2
}
