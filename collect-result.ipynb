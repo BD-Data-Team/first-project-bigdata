{
    "cells": [
        {
            "cell_type": "code",
            "execution_count": 3,
            "metadata": {},
            "outputs": [],
            "source": [
                "from visualize import plot_statistics\n",
                "import subprocess, time, json, random\n",
                "\n",
                "NUM_TEST = 1\n",
                "nJobs = [1, 2]\n",
                "dataset_percentage = [100]\n",
                "implementations = [\"map-reduce\", \"spark-core\", \"spark-sql\", \"hive\"]\n"
            ]
        },
        {
            "cell_type": "code",
            "execution_count": null,
            "metadata": {},
            "outputs": [],
            "source": [
                "implementation_2_times = {}\n",
                "\n",
                "for nJob in nJobs:\n",
                "    implementation_2_times[nJob] = {}\n",
                "    print(f\"Running job {nJob}\")\n",
                "    for implem in implementations:\n",
                "        print(f\"\\tImplementation {implem}\")\n",
                "        implementation_2_times[nJob][implem] = {}\n",
                "        elapsed_times = []\n",
                "        for pct in dataset_percentage:\n",
                "            print(f\"\\t\\tDataset percentage {pct}\")\n",
                "            times = []\n",
                "            for i in range(1, NUM_TEST+1):\n",
                "                print(f\"\\t\\t\\tTest number {i}\")\n",
                "                start_time = time.time()\n",
                "                subprocess.call(['bash', 'shell_scripts/run_job.sh', \n",
                "                                 str(nJob), implem, str(pct)], \n",
                "                                 stdout=subprocess.DEVNULL)\n",
                "                times.append(time.time() - start_time)\n",
                "            elapsed_times.append(times)\n",
                "            implementation_2_times[nJob][implem][pct] = times\n",
                "\n",
                "        #plot_statistics(NUM_TEST, elapsed_times, nJob, implem, pct)\n",
                "with open('data.json', 'w') as fp:\n",
                "    json.dump(implementation_2_times, fp)\n"
            ]
        }
    ],
    "metadata": {
        "kernelspec": {
            "display_name": "Python 3",
            "language": "python",
            "name": "python3"
        },
        "language_info": {
            "codemirror_mode": {
                "name": "ipython",
                "version": 3
            },
            "file_extension": ".py",
            "mimetype": "text/x-python",
            "name": "python",
            "nbconvert_exporter": "python",
            "pygments_lexer": "ipython3",
            "version": "3.10.6"
        },
        "orig_nbformat": 4
    },
    "nbformat": 4,
    "nbformat_minor": 2
}