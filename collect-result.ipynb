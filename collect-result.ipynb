{
 "cells": [
  {
   "cell_type": "code",
   "execution_count": null,
   "metadata": {},
   "outputs": [],
   "source": [
    "from visualize import plot_statistics\n",
    "import subprocess\n",
    "import time\n",
    "\n",
    "NUM_TEST = 5\n",
    "nJobs = [2]\n",
    "dataset_percentage = [100]\n",
    "implementations = [\"map-reduce\"]\n",
    "\n",
    "\n",
    "for nJob in nJobs:\n",
    "    for implem in implementations:\n",
    "        elapsed_times = []\n",
    "        for pct in dataset_percentage:\n",
    "            times = []\n",
    "            for i in range(1, NUM_TEST+1):\n",
    "                print(f\"Test number {i}\")\n",
    "                start_time = time.time()\n",
    "                subprocess.call(['bash', 'shell_scripts/run_job.sh', \n",
    "                                 str(nJob), implem, str(pct)], \n",
    "                                 stdout=subprocess.DEVNULL)\n",
    "                times.append(time.time() - start_time)\n",
    "            elapsed_times.append(times)\n",
    "        elapsed_times = [times, times, times, times]\n",
    "        plot_statistics(NUM_TEST, elapsed_times, nJob, implem, pct)\n",
    "\n"
   ]
  },
  {
   "cell_type": "code",
   "execution_count": null,
   "metadata": {},
   "outputs": [],
   "source": [
    "print(elapsed_times)"
   ]
  }
 ],
 "metadata": {
  "kernelspec": {
   "display_name": "Python 3",
   "language": "python",
   "name": "python3"
  },
  "language_info": {
   "codemirror_mode": {
    "name": "ipython",
    "version": 3
   },
   "file_extension": ".py",
   "mimetype": "text/x-python",
   "name": "python",
   "nbconvert_exporter": "python",
   "pygments_lexer": "ipython3",
   "version": "3.10.6"
  },
  "orig_nbformat": 4
 },
 "nbformat": 4,
 "nbformat_minor": 2
}
